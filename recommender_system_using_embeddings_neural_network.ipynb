{
 "cells": [
  {
   "cell_type": "code",
   "execution_count": 1,
   "id": "e88a0061",
   "metadata": {},
   "outputs": [
    {
     "name": "stdout",
     "output_type": "stream",
     "text": [
      "Requirement already satisfied: tensorflow in c:\\users\\vishwas\\anaconda3\\lib\\site-packages (2.15.0)\n",
      "Requirement already satisfied: tensorflow-intel==2.15.0 in c:\\users\\vishwas\\anaconda3\\lib\\site-packages (from tensorflow) (2.15.0)\n",
      "Requirement already satisfied: absl-py>=1.0.0 in c:\\users\\vishwas\\anaconda3\\lib\\site-packages (from tensorflow-intel==2.15.0->tensorflow) (2.1.0)\n",
      "Requirement already satisfied: astunparse>=1.6.0 in c:\\users\\vishwas\\anaconda3\\lib\\site-packages (from tensorflow-intel==2.15.0->tensorflow) (1.6.3)\n",
      "Requirement already satisfied: flatbuffers>=23.5.26 in c:\\users\\vishwas\\anaconda3\\lib\\site-packages (from tensorflow-intel==2.15.0->tensorflow) (23.5.26)\n",
      "Requirement already satisfied: gast!=0.5.0,!=0.5.1,!=0.5.2,>=0.2.1 in c:\\users\\vishwas\\anaconda3\\lib\\site-packages (from tensorflow-intel==2.15.0->tensorflow) (0.5.4)\n",
      "Requirement already satisfied: google-pasta>=0.1.1 in c:\\users\\vishwas\\anaconda3\\lib\\site-packages (from tensorflow-intel==2.15.0->tensorflow) (0.2.0)\n",
      "Requirement already satisfied: h5py>=2.9.0 in c:\\users\\vishwas\\anaconda3\\lib\\site-packages (from tensorflow-intel==2.15.0->tensorflow) (3.9.0)\n",
      "Requirement already satisfied: libclang>=13.0.0 in c:\\users\\vishwas\\anaconda3\\lib\\site-packages (from tensorflow-intel==2.15.0->tensorflow) (16.0.6)\n",
      "Requirement already satisfied: ml-dtypes~=0.2.0 in c:\\users\\vishwas\\anaconda3\\lib\\site-packages (from tensorflow-intel==2.15.0->tensorflow) (0.2.0)\n",
      "Requirement already satisfied: numpy<2.0.0,>=1.23.5 in c:\\users\\vishwas\\anaconda3\\lib\\site-packages (from tensorflow-intel==2.15.0->tensorflow) (1.24.3)\n",
      "Requirement already satisfied: opt-einsum>=2.3.2 in c:\\users\\vishwas\\anaconda3\\lib\\site-packages (from tensorflow-intel==2.15.0->tensorflow) (3.3.0)\n",
      "Requirement already satisfied: packaging in c:\\users\\vishwas\\anaconda3\\lib\\site-packages (from tensorflow-intel==2.15.0->tensorflow) (23.1)\n",
      "Requirement already satisfied: protobuf!=4.21.0,!=4.21.1,!=4.21.2,!=4.21.3,!=4.21.4,!=4.21.5,<5.0.0dev,>=3.20.3 in c:\\users\\vishwas\\anaconda3\\lib\\site-packages (from tensorflow-intel==2.15.0->tensorflow) (4.25.2)\n",
      "Requirement already satisfied: setuptools in c:\\users\\vishwas\\anaconda3\\lib\\site-packages (from tensorflow-intel==2.15.0->tensorflow) (68.0.0)\n",
      "Requirement already satisfied: six>=1.12.0 in c:\\users\\vishwas\\anaconda3\\lib\\site-packages (from tensorflow-intel==2.15.0->tensorflow) (1.16.0)\n",
      "Requirement already satisfied: termcolor>=1.1.0 in c:\\users\\vishwas\\anaconda3\\lib\\site-packages (from tensorflow-intel==2.15.0->tensorflow) (2.4.0)\n",
      "Requirement already satisfied: typing-extensions>=3.6.6 in c:\\users\\vishwas\\anaconda3\\lib\\site-packages (from tensorflow-intel==2.15.0->tensorflow) (4.7.1)\n",
      "Requirement already satisfied: wrapt<1.15,>=1.11.0 in c:\\users\\vishwas\\anaconda3\\lib\\site-packages (from tensorflow-intel==2.15.0->tensorflow) (1.14.1)\n",
      "Requirement already satisfied: tensorflow-io-gcs-filesystem>=0.23.1 in c:\\users\\vishwas\\anaconda3\\lib\\site-packages (from tensorflow-intel==2.15.0->tensorflow) (0.31.0)\n",
      "Requirement already satisfied: grpcio<2.0,>=1.24.3 in c:\\users\\vishwas\\anaconda3\\lib\\site-packages (from tensorflow-intel==2.15.0->tensorflow) (1.60.1)\n",
      "Requirement already satisfied: tensorboard<2.16,>=2.15 in c:\\users\\vishwas\\anaconda3\\lib\\site-packages (from tensorflow-intel==2.15.0->tensorflow) (2.15.2)\n",
      "Requirement already satisfied: tensorflow-estimator<2.16,>=2.15.0 in c:\\users\\vishwas\\anaconda3\\lib\\site-packages (from tensorflow-intel==2.15.0->tensorflow) (2.15.0)\n",
      "Requirement already satisfied: keras<2.16,>=2.15.0 in c:\\users\\vishwas\\anaconda3\\lib\\site-packages (from tensorflow-intel==2.15.0->tensorflow) (2.15.0)\n",
      "Requirement already satisfied: wheel<1.0,>=0.23.0 in c:\\users\\vishwas\\anaconda3\\lib\\site-packages (from astunparse>=1.6.0->tensorflow-intel==2.15.0->tensorflow) (0.38.4)\n",
      "Requirement already satisfied: google-auth<3,>=1.6.3 in c:\\users\\vishwas\\anaconda3\\lib\\site-packages (from tensorboard<2.16,>=2.15->tensorflow-intel==2.15.0->tensorflow) (2.27.0)\n",
      "Requirement already satisfied: google-auth-oauthlib<2,>=0.5 in c:\\users\\vishwas\\anaconda3\\lib\\site-packages (from tensorboard<2.16,>=2.15->tensorflow-intel==2.15.0->tensorflow) (1.2.0)\n",
      "Requirement already satisfied: markdown>=2.6.8 in c:\\users\\vishwas\\anaconda3\\lib\\site-packages (from tensorboard<2.16,>=2.15->tensorflow-intel==2.15.0->tensorflow) (3.4.1)\n",
      "Requirement already satisfied: requests<3,>=2.21.0 in c:\\users\\vishwas\\anaconda3\\lib\\site-packages (from tensorboard<2.16,>=2.15->tensorflow-intel==2.15.0->tensorflow) (2.31.0)\n",
      "Requirement already satisfied: tensorboard-data-server<0.8.0,>=0.7.0 in c:\\users\\vishwas\\anaconda3\\lib\\site-packages (from tensorboard<2.16,>=2.15->tensorflow-intel==2.15.0->tensorflow) (0.7.2)\n",
      "Requirement already satisfied: werkzeug>=1.0.1 in c:\\users\\vishwas\\anaconda3\\lib\\site-packages (from tensorboard<2.16,>=2.15->tensorflow-intel==2.15.0->tensorflow) (2.2.3)\n",
      "Requirement already satisfied: cachetools<6.0,>=2.0.0 in c:\\users\\vishwas\\anaconda3\\lib\\site-packages (from google-auth<3,>=1.6.3->tensorboard<2.16,>=2.15->tensorflow-intel==2.15.0->tensorflow) (5.3.2)\n",
      "Requirement already satisfied: pyasn1-modules>=0.2.1 in c:\\users\\vishwas\\anaconda3\\lib\\site-packages (from google-auth<3,>=1.6.3->tensorboard<2.16,>=2.15->tensorflow-intel==2.15.0->tensorflow) (0.2.8)\n",
      "Requirement already satisfied: rsa<5,>=3.1.4 in c:\\users\\vishwas\\anaconda3\\lib\\site-packages (from google-auth<3,>=1.6.3->tensorboard<2.16,>=2.15->tensorflow-intel==2.15.0->tensorflow) (4.9)\n",
      "Requirement already satisfied: requests-oauthlib>=0.7.0 in c:\\users\\vishwas\\anaconda3\\lib\\site-packages (from google-auth-oauthlib<2,>=0.5->tensorboard<2.16,>=2.15->tensorflow-intel==2.15.0->tensorflow) (1.3.1)\n",
      "Requirement already satisfied: charset-normalizer<4,>=2 in c:\\users\\vishwas\\anaconda3\\lib\\site-packages (from requests<3,>=2.21.0->tensorboard<2.16,>=2.15->tensorflow-intel==2.15.0->tensorflow) (2.0.4)\n",
      "Requirement already satisfied: idna<4,>=2.5 in c:\\users\\vishwas\\anaconda3\\lib\\site-packages (from requests<3,>=2.21.0->tensorboard<2.16,>=2.15->tensorflow-intel==2.15.0->tensorflow) (3.4)\n",
      "Requirement already satisfied: urllib3<3,>=1.21.1 in c:\\users\\vishwas\\anaconda3\\lib\\site-packages (from requests<3,>=2.21.0->tensorboard<2.16,>=2.15->tensorflow-intel==2.15.0->tensorflow) (1.26.16)\n",
      "Requirement already satisfied: certifi>=2017.4.17 in c:\\users\\vishwas\\anaconda3\\lib\\site-packages (from requests<3,>=2.21.0->tensorboard<2.16,>=2.15->tensorflow-intel==2.15.0->tensorflow) (2023.7.22)\n",
      "Requirement already satisfied: MarkupSafe>=2.1.1 in c:\\users\\vishwas\\anaconda3\\lib\\site-packages (from werkzeug>=1.0.1->tensorboard<2.16,>=2.15->tensorflow-intel==2.15.0->tensorflow) (2.1.1)\n",
      "Requirement already satisfied: pyasn1<0.5.0,>=0.4.6 in c:\\users\\vishwas\\anaconda3\\lib\\site-packages (from pyasn1-modules>=0.2.1->google-auth<3,>=1.6.3->tensorboard<2.16,>=2.15->tensorflow-intel==2.15.0->tensorflow) (0.4.8)\n",
      "Requirement already satisfied: oauthlib>=3.0.0 in c:\\users\\vishwas\\anaconda3\\lib\\site-packages (from requests-oauthlib>=0.7.0->google-auth-oauthlib<2,>=0.5->tensorboard<2.16,>=2.15->tensorflow-intel==2.15.0->tensorflow) (3.2.2)\n"
     ]
    },
    {
     "name": "stderr",
     "output_type": "stream",
     "text": [
      "WARNING: There was an error checking the latest version of pip.\n"
     ]
    }
   ],
   "source": [
    "!pip install tensorflow"
   ]
  },
  {
   "cell_type": "code",
   "execution_count": 2,
   "id": "fdedcd21",
   "metadata": {},
   "outputs": [
    {
     "name": "stdout",
     "output_type": "stream",
     "text": [
      "WARNING:tensorflow:From C:\\Users\\Vishwas\\anaconda3\\Lib\\site-packages\\keras\\src\\losses.py:2976: The name tf.losses.sparse_softmax_cross_entropy is deprecated. Please use tf.compat.v1.losses.sparse_softmax_cross_entropy instead.\n",
      "\n"
     ]
    }
   ],
   "source": [
    "import numpy as np\n",
    "import tensorflow as tf\n",
    "from tensorflow.keras.models import Model\n",
    "from tensorflow.keras.layers import Input, Embedding, Flatten, Dense, Concatenate\n",
    "from sklearn.model_selection import train_test_split\n",
    "import os\n",
    "import utils\n",
    "import random"
   ]
  },
  {
   "cell_type": "code",
   "execution_count": 3,
   "id": "e954270d",
   "metadata": {},
   "outputs": [
    {
     "name": "stdout",
     "output_type": "stream",
     "text": [
      "In file data\\ua.base, there are 90570 ratings\n",
      "The ratings have mean: 3.52, median: 4.0, and variance: 1.27\n",
      "There are 943 unique users and 1680 unique movies\n",
      "In file data\\ua.test, there are 9430 ratings\n",
      "The ratings have mean: 3.59, median: 4.0, and variance: 1.25\n",
      "There are 943 unique users and 1129 unique movies\n"
     ]
    }
   ],
   "source": [
    "train_path = os.path.join('data', 'ua.base')\n",
    "valid_path = os.path.join('data', 'ua.test')\n",
    "\n",
    "# Load data and shuffle\n",
    "train_data_list = utils.load_csv_data(train_path, '\\t')\n",
    "\n",
    "random.shuffle(train_data_list)\n",
    "validation_data_list = utils.load_csv_data(valid_path, '\\t')\n",
    "random.shuffle(validation_data_list)"
   ]
  },
  {
   "cell_type": "code",
   "execution_count": 4,
   "id": "587d6e3e",
   "metadata": {},
   "outputs": [
    {
     "data": {
      "text/plain": [
       "90570"
      ]
     },
     "execution_count": 4,
     "metadata": {},
     "output_type": "execute_result"
    }
   ],
   "source": [
    "len(train_data_list)"
   ]
  },
  {
   "cell_type": "code",
   "execution_count": 5,
   "id": "5eea2caa",
   "metadata": {},
   "outputs": [],
   "source": [
    "# Convert train_data_list and validation_data_list to arrays for easier manipulation\n",
    "train_data_array = np.array([(data['in0'][0], data['in1'][0], data['label']) for data in train_data_list])\n",
    "validation_data_array = np.array([(data['in0'][0], data['in1'][0], data['label']) for data in validation_data_list])\n",
    "\n",
    "# Determine the number of unique users and items\n",
    "num_users = len(np.unique(train_data_array[:, 0]))\n",
    "num_items = len(np.unique(train_data_array[:, 1]))\n",
    "\n",
    "# Define the embedding dimension\n",
    "embedding_dim = 50\n",
    "\n"
   ]
  },
  {
   "cell_type": "code",
   "execution_count": null,
   "id": "50e377b7",
   "metadata": {},
   "outputs": [
    {
     "name": "stdout",
     "output_type": "stream",
     "text": [
      "WARNING:tensorflow:From C:\\Users\\Vishwas\\anaconda3\\Lib\\site-packages\\keras\\src\\backend.py:1398: The name tf.executing_eagerly_outside_functions is deprecated. Please use tf.compat.v1.executing_eagerly_outside_functions instead.\n",
      "\n",
      "KerasTensor(type_spec=TensorSpec(shape=(None, 50), dtype=tf.float32, name=None), name='flatten/Reshape:0', description=\"created by layer 'flatten'\")\n",
      "WARNING:tensorflow:From C:\\Users\\Vishwas\\anaconda3\\Lib\\site-packages\\keras\\src\\optimizers\\__init__.py:309: The name tf.train.Optimizer is deprecated. Please use tf.compat.v1.train.Optimizer instead.\n",
      "\n",
      "Epoch 1/10\n",
      "WARNING:tensorflow:From C:\\Users\\Vishwas\\anaconda3\\Lib\\site-packages\\keras\\src\\utils\\tf_utils.py:492: The name tf.ragged.RaggedTensorValue is deprecated. Please use tf.compat.v1.ragged.RaggedTensorValue instead.\n",
      "\n",
      "1057/1274 [=======================>......] - ETA: 22s - loss: 1.4789"
     ]
    }
   ],
   "source": [
    "# Define the input layers for user and item IDs\n",
    "user_input = Input(shape=(1,), name='user_input')\n",
    "item_input = Input(shape=(1,), name='item_input')\n",
    "\n",
    "# Define embedding layers for users and items\n",
    "user_embedding = Embedding(input_dim=90570, output_dim=embedding_dim, input_length=1, name='user_embedding')(user_input)\n",
    "\n",
    "item_embedding = Embedding(input_dim=90570, output_dim=embedding_dim, input_length=1, name='item_embedding')(item_input)\n",
    "\n",
    "# Flatten the embeddings\n",
    "user_flat = Flatten()(user_embedding)\n",
    "item_flat = Flatten()(item_embedding)\n",
    "print(user_flat)\n",
    "# Concatenate user and item embeddings\n",
    "concat = Concatenate()([user_flat, item_flat])\n",
    "\n",
    "# Define a neural network architecture\n",
    "dense1 = tf.keras.layers.Dense(64, activation='relu')(concat)\n",
    "dense2 = tf.keras.layers.Dense(32, activation='relu')(dense1)\n",
    "output = tf.keras.layers.Dense(1, activation='linear')(dense2)\n",
    "\n",
    "# Define the model\n",
    "model = Model(inputs=[user_input, item_input], outputs=output)\n",
    "\n",
    "# Compile the model\n",
    "model.compile(optimizer='adam', loss='mean_squared_error')\n",
    "\n",
    "# Split the data into training and validation sets\n",
    "train_data, val_data = train_test_split(train_data_array, test_size=0.1, random_state=42)\n",
    "\n",
    "# Train the model\n",
    "history = model.fit([train_data[:, 0], train_data[:, 1]], train_data[:, 2], \n",
    "                    batch_size=64, epochs=10, validation_data=([val_data[:, 0], val_data[:, 1]], val_data[:, 2]))\n",
    "\n",
    "# Evaluate the model\n",
    "val_loss = model.evaluate([validation_data_array[:, 0], validation_data_array[:, 1]], validation_data_array[:, 2])\n",
    "print(\"Validation Loss:\", val_loss)\n"
   ]
  },
  {
   "cell_type": "code",
   "execution_count": null,
   "id": "98057922",
   "metadata": {},
   "outputs": [],
   "source": [
    "predictions_ = model.predict([validation_data_array[:, 0], validation_data_array[:, 1]])\n"
   ]
  },
  {
   "cell_type": "code",
   "execution_count": null,
   "id": "e1c8ae2f",
   "metadata": {},
   "outputs": [],
   "source": []
  },
  {
   "cell_type": "code",
   "execution_count": null,
   "id": "e5c18ed5",
   "metadata": {},
   "outputs": [],
   "source": [
    "predictions= [round(value[0]) for value in predictions_]"
   ]
  },
  {
   "cell_type": "code",
   "execution_count": null,
   "id": "9d081a53",
   "metadata": {},
   "outputs": [],
   "source": [
    "\n"
   ]
  },
  {
   "cell_type": "code",
   "execution_count": null,
   "id": "e8396b31",
   "metadata": {},
   "outputs": [],
   "source": [
    "from sklearn.metrics import mean_absolute_error, mean_squared_error\n",
    "\n",
    "# Calculate Mean Absolute Error (MAE)\n",
    "mae = mean_absolute_error(validation_data_array[:, 2], predictions)\n",
    "print(\"Mean Absolute Error (MAE):\", mae)\n",
    "\n",
    "# Calculate Mean Squared Error (MSE)\n",
    "mse = mean_squared_error(validation_data_array[:, 2], predictions)\n",
    "print(\"Mean Squared Error (MSE):\", mse)\n",
    "\n",
    "# Calculate Root Mean Squared Error (RMSE)\n",
    "rmse = np.sqrt(mse)\n",
    "print(\"Root Mean Squared Error (RMSE):\", rmse)\n"
   ]
  },
  {
   "cell_type": "code",
   "execution_count": null,
   "id": "08bf954e",
   "metadata": {},
   "outputs": [],
   "source": [
    "from sklearn.metrics import accuracy_score, precision_score, recall_score, f1_score\n"
   ]
  },
  {
   "cell_type": "code",
   "execution_count": null,
   "id": "a1d2491c",
   "metadata": {},
   "outputs": [],
   "source": [
    "threshold = 3.5\n",
    "recommended_items = []\n",
    "for i in range(len(predictions)):\n",
    "    if predictions[i] >= threshold:\n",
    "        recommended_items.append(1)  # Recommended\n",
    "    else:\n",
    "        recommended_items.append(0)  # Not recommended\n",
    "\n",
    "# Evaluate the recommendation performance\n",
    "true_labels = [1 if rating >= threshold else 0 for rating in validation_data_array[:, 2]]\n",
    "\n",
    "# Calculate evaluation metrics\n",
    "accuracy = accuracy_score(true_labels, recommended_items)\n",
    "precision = precision_score(true_labels, recommended_items)\n",
    "recall = recall_score(true_labels, recommended_items)\n",
    "f1 = f1_score(true_labels, recommended_items)\n",
    "\n",
    "print(\"Accuracy:\", accuracy)\n",
    "print(\"Precision:\", precision)\n",
    "print(\"Recall:\", recall)\n",
    "print(\"F1-score:\", f1)"
   ]
  },
  {
   "cell_type": "markdown",
   "id": "6eed60e2",
   "metadata": {},
   "source": [
    "# Recmmend movies based on "
   ]
  },
  {
   "cell_type": "code",
   "execution_count": null,
   "id": "62d16df5",
   "metadata": {},
   "outputs": [],
   "source": [
    "threshold = 3.5 \n",
    "\n",
    "# Convert ratings to binary values based on the threshold\n",
    "train_data_array = np.array([1 if data['label'] >= threshold else 0 for data in train_data_list])\n",
    "\n",
    "# Extract user and item IDs and include binary ratings\n",
    "train_data_array = np.array([(data['in0'][0], data['in1'][0], rating) for data, rating in zip(train_data_list, train_data_array)])\n",
    "\n",
    "# Display the training data\n",
    "print(train_data_array)\n",
    "len(train_data_array)"
   ]
  },
  {
   "cell_type": "code",
   "execution_count": null,
   "id": "d357ea8c",
   "metadata": {},
   "outputs": [],
   "source": [
    "validation_data_array = np.array([(data['in0'][0], data['in1'][0], data['label']) for data in validation_data_list])\n",
    "\n",
    "# Determine the number of unique users and items\n",
    "num_users = len(np.unique(training_data[:, 0]))\n",
    "num_items = len(np.unique(training_data[:, 1]))\n",
    "\n",
    "# Define the embedding dimension\n",
    "embedding_dim = 50"
   ]
  },
  {
   "cell_type": "code",
   "execution_count": null,
   "id": "1e5f1f55",
   "metadata": {},
   "outputs": [],
   "source": [
    "from tensorflow.keras.layers import Activation\n",
    "\n",
    "user_input = Input(shape=(1,), name='user_input')\n",
    "item_input = Input(shape=(1,), name='item_input')\n",
    "\n",
    "\n",
    "user_embedding = Embedding(input_dim=90570, output_dim=embedding_dim, input_length=1, name='user_embedding')(user_input)\n",
    "item_embedding = Embedding(input_dim=90570, output_dim=embedding_dim, input_length=1, name='item_embedding')(item_input)\n",
    "\n",
    "\n",
    "user_flat = Flatten()(user_embedding)\n",
    "item_flat = Flatten()(item_embedding)\n",
    "\n",
    "\n",
    "concat = Concatenate()([user_flat, item_flat])\n",
    "\n",
    "# Define a neural network architecture\n",
    "dense1 = tf.keras.layers.Dense(64, activation='relu')(concat)\n",
    "dense2 = tf.keras.layers.Dense(32, activation='relu')(dense1)\n",
    "\n",
    "# Output layer with sigmoid activation for binary classification\n",
    "output = tf.keras.layers.Dense(1, activation='sigmoid')(dense2)\n",
    "\n",
    "# Define the model\n",
    "model = Model(inputs=[user_input, item_input], outputs=output)\n",
    "\n",
    "# Compile the model with binary cross-entropy loss\n",
    "model.compile(optimizer='adam', loss='binary_crossentropy', metrics=['accuracy'])\n",
    "\n",
    "# Split the data into training and validation sets\n",
    "train_data, val_data = train_test_split(train_data_array, test_size=0.1, random_state=42)\n",
    "\n",
    "# Train the model\n",
    "history = model.fit([train_data[:, 0], train_data[:, 1]], train_data[:, 2], \n",
    "                    batch_size=64, epochs=10, validation_data=([val_data[:, 0], val_data[:, 1]], val_data[:, 2]))\n",
    "\n"
   ]
  },
  {
   "cell_type": "code",
   "execution_count": null,
   "id": "6591b45f",
   "metadata": {},
   "outputs": [],
   "source": [
    "predictions_ = model.predict([validation_data_array[:, 0], validation_data_array[:, 1]])"
   ]
  },
  {
   "cell_type": "code",
   "execution_count": null,
   "id": "885fc535",
   "metadata": {},
   "outputs": [],
   "source": [
    "prediction_binary=[1 if data >= 0.5 else 0 for data in predictions_]"
   ]
  },
  {
   "cell_type": "code",
   "execution_count": null,
   "id": "faecf262",
   "metadata": {},
   "outputs": [],
   "source": [
    "validation_data_array[:, 2]"
   ]
  },
  {
   "cell_type": "code",
   "execution_count": null,
   "id": "2df7aaec",
   "metadata": {},
   "outputs": [],
   "source": [
    "\n",
    "prediction_original = np.array([1 if data >= threshold else 0 for data in validation_data_array[:, 2]])"
   ]
  },
  {
   "cell_type": "code",
   "execution_count": null,
   "id": "5b647f18",
   "metadata": {},
   "outputs": [],
   "source": [
    "prediction_binary"
   ]
  },
  {
   "cell_type": "code",
   "execution_count": null,
   "id": "852fcef4",
   "metadata": {},
   "outputs": [],
   "source": [
    "# Evaluate the model\n",
    "val_loss, val_accuracy = model.evaluate([validation_data_array[:, 0], validation_data_array[:, 1]], prediction_original)\n",
    "print(\"Validation Loss:\", val_loss)\n",
    "print(\"Validation Accuracy:\", val_accuracy)"
   ]
  },
  {
   "cell_type": "code",
   "execution_count": null,
   "id": "ee8129db",
   "metadata": {},
   "outputs": [],
   "source": [
    "accuracy = accuracy_score(prediction_original, prediction_binary)\n",
    "precision = precision_score(prediction_original, prediction_binary)\n",
    "recall = recall_score(prediction_original, prediction_binary)\n",
    "f1 = f1_score(prediction_original, prediction_binary)\n",
    "\n",
    "print(\"Accuracy:\", accuracy)\n",
    "print(\"Precision:\", precision)\n",
    "print(\"Recall:\", recall)\n",
    "print(\"F1-score:\", f1)"
   ]
  },
  {
   "cell_type": "code",
   "execution_count": null,
   "id": "37ce453f",
   "metadata": {},
   "outputs": [],
   "source": []
  }
 ],
 "metadata": {
  "kernelspec": {
   "display_name": "Python 3 (ipykernel)",
   "language": "python",
   "name": "python3"
  },
  "language_info": {
   "codemirror_mode": {
    "name": "ipython",
    "version": 3
   },
   "file_extension": ".py",
   "mimetype": "text/x-python",
   "name": "python",
   "nbconvert_exporter": "python",
   "pygments_lexer": "ipython3",
   "version": "3.11.5"
  }
 },
 "nbformat": 4,
 "nbformat_minor": 5
}
