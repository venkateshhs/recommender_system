{
 "cells": [
  {
   "cell_type": "code",
   "execution_count": 2,
   "id": "b87e95b5",
   "metadata": {},
   "outputs": [
    {
     "name": "stdout",
     "output_type": "stream",
     "text": [
      "Collecting jsonlines\n",
      "  Obtaining dependency information for jsonlines from https://files.pythonhosted.org/packages/f8/62/d9ba6323b9202dd2fe166beab8a86d29465c41a0288cbe229fac60c1ab8d/jsonlines-4.0.0-py3-none-any.whl.metadata\n",
      "  Downloading jsonlines-4.0.0-py3-none-any.whl.metadata (1.6 kB)\n",
      "Requirement already satisfied: attrs>=19.2.0 in c:\\users\\vishwas\\anaconda3\\lib\\site-packages (from jsonlines) (22.1.0)\n",
      "Downloading jsonlines-4.0.0-py3-none-any.whl (8.7 kB)\n",
      "Installing collected packages: jsonlines\n",
      "Successfully installed jsonlines-4.0.0\n"
     ]
    },
    {
     "name": "stderr",
     "output_type": "stream",
     "text": [
      "WARNING: There was an error checking the latest version of pip.\n"
     ]
    }
   ],
   "source": [
    "!pip install jsonlines"
   ]
  },
  {
   "cell_type": "code",
   "execution_count": 16,
   "id": "0c26bad2",
   "metadata": {},
   "outputs": [],
   "source": [
    "import os\n",
    "import sys\n",
    "import csv, jsonlines\n",
    "import numpy as np\n",
    "import copy\n",
    "import random\n",
    "import utils\n",
    "import seaborn as sns"
   ]
  },
  {
   "cell_type": "code",
   "execution_count": 5,
   "id": "9e3c9d12",
   "metadata": {},
   "outputs": [],
   "source": [
    "%matplotlib inline\n",
    "import matplotlib.pyplot as plt"
   ]
  },
  {
   "cell_type": "code",
   "execution_count": 8,
   "id": "376bf3ee",
   "metadata": {},
   "outputs": [
    {
     "name": "stdout",
     "output_type": "stream",
     "text": [
      "In file data\\ua.base, there are 90570 ratings\n",
      "The ratings have mean: 3.52, median: 4.0, and variance: 1.27\n",
      "There are 943 unique users and 1680 unique movies\n"
     ]
    },
    {
     "name": "stderr",
     "output_type": "stream",
     "text": [
      "IOPub data rate exceeded.\n",
      "The notebook server will temporarily stop sending output\n",
      "to the client in order to avoid crashing it.\n",
      "To change this limit, set the config variable\n",
      "`--NotebookApp.iopub_data_rate_limit`.\n",
      "\n",
      "Current values:\n",
      "NotebookApp.iopub_data_rate_limit=1000000.0 (bytes/sec)\n",
      "NotebookApp.rate_limit_window=3.0 (secs)\n",
      "\n"
     ]
    }
   ],
   "source": [
    "\n",
    "train_path = os.path.join('data', 'ua.base')\n",
    "valid_path = os.path.join('data', 'ua.test')\n",
    "\n",
    "# Load data and shuffle\n",
    "train_data_list = utils.load_csv_data(train_path, '\\t')\n",
    "print(train_data_list)\n",
    "random.shuffle(train_data_list)\n",
    "validation_data_list = utils.load_csv_data(valid_path, '\\t')\n",
    "random.shuffle(validation_data_list)"
   ]
  },
  {
   "cell_type": "code",
   "execution_count": 91,
   "id": "f354aab3",
   "metadata": {},
   "outputs": [],
   "source": [
    "\n",
    "to_users_dict, to_movies_dict = utils.csv_to_augmented_data_dict(train_path, '\\t')\n"
   ]
  },
  {
   "cell_type": "code",
   "execution_count": 15,
   "id": "a8b2c61f",
   "metadata": {},
   "outputs": [
    {
     "name": "stdout",
     "output_type": "stream",
     "text": [
      "The min, max, and median 'movies per user' is 10, 727, and 55.0\n",
      "The min, max, and median 'users per movie' is 1, 495, and 25.0\n",
      "In the training set\n",
      "There are 213 users with no more than 20 movies\n",
      "There are 12 movies with no more than 2 user\n"
     ]
    },
    {
     "data": {
      "text/plain": [
       "Text(0.5, 1.0, 'Users per movie')"
      ]
     },
     "execution_count": 15,
     "metadata": {},
     "output_type": "execute_result"
    },
    {
     "data": {
      "image/png": "[encoded data removed]",
      "text/plain": [
       "<Figure size 640x480 with 1 Axes>"
      ]
     },
     "metadata": {},
     "output_type": "display_data"
    },
    {
     "data": {
      "image/png": "[encoded data removed]",
      "text/plain": [
       "<Figure size 640x480 with 1 Axes>"
      ]
     },
     "metadata": {},
     "output_type": "display_data"
    }
   ],
   "source": [
    "# Calculate min, max, median of number of movies per user\n",
    "movies_per_user = [len(val) for key, val in to_users_dict.items()]\n",
    "\n",
    "print(\"The min, max, and median 'movies per user' is {}, {}, and {}\".format(np.min(movies_per_user),\n",
    "                                                                        np.max(movies_per_user),\n",
    "                                                                         np.median(movies_per_user)))\n",
    "# Calculate min, max, median of number of users per movie\n",
    "users_per_movie = [len(val) for key, val in to_movies_dict.items()]\n",
    "print(\"The min, max, and median 'users per movie' is {}, {}, and {}\".format(np.min(users_per_movie),\n",
    "                                                                         np.max(users_per_movie),\n",
    "                                                                          np.median(users_per_movie)))\n",
    "\n",
    "\n",
    "# Calculate how many users have watched less than a certain number of movies\n",
    "count = 0\n",
    "n_movies_lower_bound = 20\n",
    "for n_movies in movies_per_user:\n",
    "    if n_movies <= n_movies_lower_bound:\n",
    "        count += 1\n",
    "print(\"In the training set\")\n",
    "print('There are {} users with no more than {} movies'.format(count, n_movies_lower_bound))\n",
    "\n",
    "# Calculate how many movies have been watched by less than a certain threshold of users\n",
    "count = 0\n",
    "n_users_lower_bound = 2\n",
    "for n_users in users_per_movie:\n",
    "    if n_users <= n_users_lower_bound:\n",
    "        count += 1\n",
    "print('There are {} movies with no more than {} user'.format(count, n_users_lower_bound))\n",
    "\n",
    "# Generate histogram for the number of movies watched per user \n",
    "f = plt.figure(1)\n",
    "plt.hist(movies_per_user)\n",
    "plt.title(\"Movies per user\")\n",
    "\n",
    "# Generate histogram for the number of users who watched a movie\n",
    "g = plt.figure(2)\n",
    "plt.hist(users_per_movie)\n",
    "plt.title(\"Users per movie\")"
   ]
  },
  {
   "cell_type": "code",
   "execution_count": 18,
   "id": "ef6f841c",
   "metadata": {},
   "outputs": [
    {
     "data": {
      "image/png": "[encoded data removed]",
      "text/plain": [
       "<Figure size 800x600 with 1 Axes>"
      ]
     },
     "metadata": {},
     "output_type": "display_data"
    },
    {
     "data": {
      "image/png": "[encoded data removed]",
      "text/plain": [
       "<Figure size 800x600 with 1 Axes>"
      ]
     },
     "metadata": {},
     "output_type": "display_data"
    }
   ],
   "source": [
    "\n",
    "plt.figure(figsize=(8, 6))\n",
    "sns.histplot(movies_per_user, bins=20, kde=True, color='skyblue')\n",
    "plt.title(\"Distribution of Movies per User\")\n",
    "plt.xlabel(\"Number of Movies\")\n",
    "plt.ylabel(\"Frequency\")\n",
    "plt.show()\n",
    "\n",
    "# Generate histogram for the number of users who watched a movie\n",
    "plt.figure(figsize=(8, 6))\n",
    "sns.histplot(users_per_movie, bins=20, kde=True, color='salmon')\n",
    "plt.title(\"Distribution of Users per Movie\")\n",
    "plt.xlabel(\"Number of Users\")\n",
    "plt.ylabel(\"Frequency\")\n",
    "plt.show()"
   ]
  },
  {
   "cell_type": "code",
   "execution_count": 21,
   "id": "e6a21e71",
   "metadata": {},
   "outputs": [],
   "source": [
    "def data_to_matrix(data_list):\n",
    "    users = []\n",
    "    movies = []\n",
    "    ratings = []\n",
    "    for data in data_list:\n",
    "        users.append(data['in0'][0])\n",
    "        movies.append(data['in1'][0])\n",
    "        ratings.append(data['label'])\n",
    "    return np.array(users), np.array(movies), np.array(ratings)"
   ]
  },
  {
   "cell_type": "code",
   "execution_count": null,
   "id": "43695fe3",
   "metadata": {},
   "outputs": [],
   "source": []
  },
  {
   "cell_type": "code",
   "execution_count": 32,
   "id": "f6965034",
   "metadata": {},
   "outputs": [],
   "source": [
    "train_users, train_movies, train_ratings = data_to_matrix(train_data_list)\n",
    "validation_users, validation_movies, validation_ratings = data_to_matrix(validation_data_list)"
   ]
  },
  {
   "cell_type": "markdown",
   "id": "f54688e5",
   "metadata": {},
   "source": [
    "## collaborative filtering"
   ]
  },
  {
   "cell_type": "markdown",
   "id": "3e42f6ac",
   "metadata": {},
   "source": [
    "For each user who has rated the movie, we find the ratings they've given for all the movies they've rated.\n",
    "We subtract the mean of these ratings to center them around zero.\n",
    "Then, we sum up the squared differences between the centered ratings of each user and the target user.\n",
    "The resulting value represents the similarity between the users based on their ratings for common movies."
   ]
  },
  {
   "cell_type": "code",
   "execution_count": 35,
   "id": "d1a1ae66",
   "metadata": {},
   "outputs": [],
   "source": [
    "def predict_rating(user_id, movie_id, k=2):\n",
    "    # Find users who have rated the movie\n",
    "    users_for_movie = train_users[train_movies == movie_id]\n",
    "    if len(users_for_movie) == 0:  # If no users have rated the movie\n",
    "        return 0  # Return default value (e.g., 0)\n",
    "    \n",
    "    # Find common movies between the target user and users who have rated the movie\n",
    "    common_movies = np.intersect1d(train_movies[train_users == user_id], train_movies[train_users == users_for_movie])\n",
    "    \n",
    "    # Calculate similarity between users based on common movies\n",
    "    similarities = []\n",
    "    for u in users_for_movie:\n",
    "        common_movies_ratings_user = train_ratings[(train_users == u) & np.isin(train_movies, common_movies)]\n",
    "        common_movies_ratings_target_user = train_ratings[(train_users == user_id) & np.isin(train_movies, common_movies)]\n",
    "        similarity = np.sum(common_movies_ratings_user - np.mean(common_movies_ratings_user)) * \\\n",
    "                     np.sum(common_movies_ratings_target_user - np.mean(common_movies_ratings_target_user))\n",
    "        similarities.append(similarity)\n",
    "        \n",
    "    # Get indices of top-k similar users\n",
    "    top_k_users = np.argsort(similarities)[-k:]\n",
    "    \n",
    "    # Predict rating as the average of ratings of top-k similar users\n",
    "    predicted_rating = np.mean(train_ratings[train_users == users_for_movie[top_k_users[-1]]])\n",
    "    return predicted_rating"
   ]
  },
  {
   "cell_type": "code",
   "execution_count": null,
   "id": "d335dc31",
   "metadata": {},
   "outputs": [],
   "source": []
  },
  {
   "cell_type": "code",
   "execution_count": 36,
   "id": "d0c1b40b",
   "metadata": {},
   "outputs": [
    {
     "name": "stderr",
     "output_type": "stream",
     "text": [
      "C:\\Users\\Vishwas\\AppData\\Local\\Temp\\ipykernel_2508\\2585058364.py:8: DeprecationWarning: elementwise comparison failed; this will raise an error in the future.\n",
      "  common_movies = np.intersect1d(train_movies[train_users == user_id], train_movies[train_users == users_for_movie])\n",
      "C:\\Users\\Vishwas\\anaconda3\\Lib\\site-packages\\numpy\\core\\fromnumeric.py:3464: RuntimeWarning: Mean of empty slice.\n",
      "  return _methods._mean(a, axis=axis, dtype=dtype,\n",
      "C:\\Users\\Vishwas\\anaconda3\\Lib\\site-packages\\numpy\\core\\_methods.py:192: RuntimeWarning: invalid value encountered in scalar divide\n",
      "  ret = ret.dtype.type(ret / rcount)\n"
     ]
    },
    {
     "name": "stdout",
     "output_type": "stream",
     "text": [
      "Mean Absolute Error (MAE): 0.9102863202545068\n"
     ]
    }
   ],
   "source": [
    "# Make recommendations for each user in the validation set\n",
    "recommendations = {}\n",
    "predicted_ratings = []\n",
    "for i, user_id in enumerate(validation_users):\n",
    "    movie_id = validation_movies[i]\n",
    "    rating = predict_rating(user_id, movie_id)\n",
    "    predicted_ratings.append(round(rating))\n",
    "    recommendations[(user_id, movie_id)] = round(rating)\n",
    "\n",
    "    \n",
    "mae = np.mean(np.abs(predicted_ratings - validation_ratings))\n",
    "print(\"Mean Absolute Error (MAE):\", mae)\n"
   ]
  },
  {
   "cell_type": "code",
   "execution_count": 43,
   "id": "bae54094",
   "metadata": {},
   "outputs": [
    {
     "name": "stdout",
     "output_type": "stream",
     "text": [
      "Mean Squared Error (MSE): 1.4708377518557794\n"
     ]
    }
   ],
   "source": [
    "# Calculate Mean Squared Error (MSE)\n",
    "mse = np.mean((predicted_ratings - validation_ratings) ** 2)\n",
    "print(\"Mean Squared Error (MSE):\", mse)\n"
   ]
  },
  {
   "cell_type": "code",
   "execution_count": null,
   "id": "021f37b6",
   "metadata": {},
   "outputs": [],
   "source": [
    "print(\"Recommendations:\")\n",
    "for (user_id, movie_id), rating in recommendations.items():\n",
    "    print(f\"User {user_id} might rate Movie {movie_id} with a predicted rating of {rating:.2f}\")"
   ]
  },
  {
   "cell_type": "markdown",
   "id": "36cf2ecb",
   "metadata": {},
   "source": [
    "Approach 2"
   ]
  },
  {
   "cell_type": "code",
   "execution_count": 39,
   "id": "f7480221",
   "metadata": {},
   "outputs": [
    {
     "name": "stdout",
     "output_type": "stream",
     "text": [
      "Created train_r.jsonl jsonline file\n",
      "Created validation_r.jsonl jsonline file\n"
     ]
    }
   ],
   "source": [
    "# Save training and validation data locally for rating-prediction (regression) task.\n",
    "utils.write_data_list_to_jsonl(copy.deepcopy(train_data_list), 'train_r.jsonl')\n",
    "utils.write_data_list_to_jsonl(copy.deepcopy(validation_data_list), 'validation_r.jsonl')\n",
    "\n",
    "# Format the validation data for testing in the inference step later.\n",
    "valid_r_data, valid_r_label = utils.data_list_to_inference_format(copy.deepcopy(validation_data_list), binarize=False)"
   ]
  },
  {
   "cell_type": "code",
   "execution_count": 40,
   "id": "ee0f5722",
   "metadata": {},
   "outputs": [],
   "source": [
    "# Define a function to evaluate the performance.\n",
    "def get_mse_loss(res, labels):\n",
    "    if type(res) is dict:\n",
    "        res = res['predictions']\n",
    "    assert len(res)==len(labels), 'result and label length mismatch!'\n",
    "    loss = 0\n",
    "    for row, label in zip(res, labels):\n",
    "        if type(row)is dict:\n",
    "            loss += (row['scores'][0]-label)**2\n",
    "        else:\n",
    "            loss += (row-label)**2\n",
    "    return round(loss/float(len(labels)), 2)"
   ]
  },
  {
   "cell_type": "code",
   "execution_count": 41,
   "id": "f9d4c3d1",
   "metadata": {},
   "outputs": [],
   "source": [
    "def bs2_predictor(test_data, user_dict, is_classification=False, thres=3):\n",
    "    test_data = copy.deepcopy(test_data['instances'])\n",
    "    predictions = list()\n",
    "    for row in test_data:\n",
    "        userID = str(row[\"in0\"][0])\n",
    "        # predict movie ID based on local average of user's prediction\n",
    "        local_movies, local_ratings = zip(*user_dict[userID])\n",
    "        local_ratings = [float(score) for score in local_ratings]\n",
    "        predictions.append(np.mean(local_ratings))\n",
    "        if is_classification:\n",
    "            predictions[-1] = int(predictions[-1] > 3)\n",
    "    return predictions"
   ]
  },
  {
   "cell_type": "code",
   "execution_count": 42,
   "id": "760261e4",
   "metadata": {},
   "outputs": [
    {
     "name": "stdout",
     "output_type": "stream",
     "text": [
      "The validation loss of the Baseline 2 (user-based rating average) is 1.09\n"
     ]
    }
   ],
   "source": [
    "bs2_prediction = bs2_predictor(valid_r_data, to_users_dict, is_classification=False)\n",
    "print(\"The validation loss of the Baseline 2 (user-based rating average) is {}\".format(\n",
    "                                     get_mse_loss(bs2_prediction, valid_r_label)))"
   ]
  },
  {
   "cell_type": "markdown",
   "id": "5fa84a8b",
   "metadata": {},
   "source": [
    "## KNN"
   ]
  },
  {
   "cell_type": "code",
   "execution_count": 44,
   "id": "8bbf7118",
   "metadata": {},
   "outputs": [],
   "source": [
    "from sklearn.neighbors import KNeighborsRegressor\n",
    "from sklearn.metrics import mean_absolute_error, mean_squared_error"
   ]
  },
  {
   "cell_type": "code",
   "execution_count": 87,
   "id": "918b3e53",
   "metadata": {},
   "outputs": [],
   "source": [
    "k = 10  # Number of neighbors\n",
    "knn_model = KNeighborsRegressor(n_neighbors=k)"
   ]
  },
  {
   "cell_type": "code",
   "execution_count": 93,
   "id": "9d30d1c2",
   "metadata": {},
   "outputs": [
    {
     "name": "stdout",
     "output_type": "stream",
     "text": [
      "[[232  81]\n",
      " [776 511]\n",
      " [716 340]\n",
      " ...\n",
      " [936   9]\n",
      " [378 225]\n",
      " [  1 219]]\n"
     ]
    },
    {
     "data": {
      "text/html": [
       "<style>#sk-container-id-16 {color: black;}#sk-container-id-16 pre{padding: 0;}#sk-container-id-16 div.sk-toggleable {background-color: white;}#sk-container-id-16 label.sk-toggleable__label {cursor: pointer;display: block;width: 100%;margin-bottom: 0;padding: 0.3em;box-sizing: border-box;text-align: center;}#sk-container-id-16 label.sk-toggleable__label-arrow:before {content: \"▸\";float: left;margin-right: 0.25em;color: #696969;}#sk-container-id-16 label.sk-toggleable__label-arrow:hover:before {color: black;}#sk-container-id-16 div.sk-estimator:hover label.sk-toggleable__label-arrow:before {color: black;}#sk-container-id-16 div.sk-toggleable__content {max-height: 0;max-width: 0;overflow: hidden;text-align: left;background-color: #f0f8ff;}#sk-container-id-16 div.sk-toggleable__content pre {margin: 0.2em;color: black;border-radius: 0.25em;background-color: #f0f8ff;}#sk-container-id-16 input.sk-toggleable__control:checked~div.sk-toggleable__content {max-height: 200px;max-width: 100%;overflow: auto;}#sk-container-id-16 input.sk-toggleable__control:checked~label.sk-toggleable__label-arrow:before {content: \"▾\";}#sk-container-id-16 div.sk-estimator input.sk-toggleable__control:checked~label.sk-toggleable__label {background-color: #d4ebff;}#sk-container-id-16 div.sk-label input.sk-toggleable__control:checked~label.sk-toggleable__label {background-color: #d4ebff;}#sk-container-id-16 input.sk-hidden--visually {border: 0;clip: rect(1px 1px 1px 1px);clip: rect(1px, 1px, 1px, 1px);height: 1px;margin: -1px;overflow: hidden;padding: 0;position: absolute;width: 1px;}#sk-container-id-16 div.sk-estimator {font-family: monospace;background-color: #f0f8ff;border: 1px dotted black;border-radius: 0.25em;box-sizing: border-box;margin-bottom: 0.5em;}#sk-container-id-16 div.sk-estimator:hover {background-color: #d4ebff;}#sk-container-id-16 div.sk-parallel-item::after {content: \"\";width: 100%;border-bottom: 1px solid gray;flex-grow: 1;}#sk-container-id-16 div.sk-label:hover label.sk-toggleable__label {background-color: #d4ebff;}#sk-container-id-16 div.sk-serial::before {content: \"\";position: absolute;border-left: 1px solid gray;box-sizing: border-box;top: 0;bottom: 0;left: 50%;z-index: 0;}#sk-container-id-16 div.sk-serial {display: flex;flex-direction: column;align-items: center;background-color: white;padding-right: 0.2em;padding-left: 0.2em;position: relative;}#sk-container-id-16 div.sk-item {position: relative;z-index: 1;}#sk-container-id-16 div.sk-parallel {display: flex;align-items: stretch;justify-content: center;background-color: white;position: relative;}#sk-container-id-16 div.sk-item::before, #sk-container-id-16 div.sk-parallel-item::before {content: \"\";position: absolute;border-left: 1px solid gray;box-sizing: border-box;top: 0;bottom: 0;left: 50%;z-index: -1;}#sk-container-id-16 div.sk-parallel-item {display: flex;flex-direction: column;z-index: 1;position: relative;background-color: white;}#sk-container-id-16 div.sk-parallel-item:first-child::after {align-self: flex-end;width: 50%;}#sk-container-id-16 div.sk-parallel-item:last-child::after {align-self: flex-start;width: 50%;}#sk-container-id-16 div.sk-parallel-item:only-child::after {width: 0;}#sk-container-id-16 div.sk-dashed-wrapped {border: 1px dashed gray;margin: 0 0.4em 0.5em 0.4em;box-sizing: border-box;padding-bottom: 0.4em;background-color: white;}#sk-container-id-16 div.sk-label label {font-family: monospace;font-weight: bold;display: inline-block;line-height: 1.2em;}#sk-container-id-16 div.sk-label-container {text-align: center;}#sk-container-id-16 div.sk-container {/* jupyter's `normalize.less` sets `[hidden] { display: none; }` but bootstrap.min.css set `[hidden] { display: none !important; }` so we also need the `!important` here to be able to override the default hidden behavior on the sphinx rendered scikit-learn.org. See: https://github.com/scikit-learn/scikit-learn/issues/21755 */display: inline-block !important;position: relative;}#sk-container-id-16 div.sk-text-repr-fallback {display: none;}</style><div id=\"sk-container-id-16\" class=\"sk-top-container\"><div class=\"sk-text-repr-fallback\"><pre>KNeighborsRegressor(n_neighbors=10)</pre><b>In a Jupyter environment, please rerun this cell to show the HTML representation or trust the notebook. <br />On GitHub, the HTML representation is unable to render, please try loading this page with nbviewer.org.</b></div><div class=\"sk-container\" hidden><div class=\"sk-item\"><div class=\"sk-estimator sk-toggleable\"><input class=\"sk-toggleable__control sk-hidden--visually\" id=\"sk-estimator-id-16\" type=\"checkbox\" checked><label for=\"sk-estimator-id-16\" class=\"sk-toggleable__label sk-toggleable__label-arrow\">KNeighborsRegressor</label><div class=\"sk-toggleable__content\"><pre>KNeighborsRegressor(n_neighbors=10)</pre></div></div></div></div></div>"
      ],
      "text/plain": [
       "KNeighborsRegressor(n_neighbors=10)"
      ]
     },
     "execution_count": 93,
     "metadata": {},
     "output_type": "execute_result"
    }
   ],
   "source": [
    "# Train the model\n",
    "X_train = np.column_stack((train_users, train_movies))  # Features: user IDs and movie IDs\n",
    "y_train = train_ratings  # Target variable: ratings\n",
    "knn_model.fit(X_train, y_train)"
   ]
  },
  {
   "cell_type": "code",
   "execution_count": 89,
   "id": "1cfdf2b4",
   "metadata": {},
   "outputs": [
    {
     "name": "stdout",
     "output_type": "stream",
     "text": [
      "Mean Absolute Error (MAE) for kNN: 0.8594909862142099\n",
      "Mean Squared Error (MSE) for kNN: 1.3324496288441146\n"
     ]
    }
   ],
   "source": [
    "X_val = np.column_stack((validation_users, validation_movies))  # Features: user IDs and movie IDs\n",
    "predicted_ratings_knn = knn_model.predict(X_val)\n",
    "\n",
    "# Round predicted ratings to the nearest integer\n",
    "predicted_ratings_knn_rounded = np.round(predicted_ratings_knn)\n",
    "\n",
    "# Calculate Mean Absolute Error (MAE)\n",
    "mae_knn = mean_absolute_error(validation_ratings, predicted_ratings_knn_rounded)\n",
    "print(\"Mean Absolute Error (MAE) for kNN:\", mae_knn)\n",
    "\n",
    "# Calculate Mean Squared Error (MSE)\n",
    "mse_knn = mean_squared_error(validation_ratings, predicted_ratings_knn_rounded)\n",
    "print(\"Mean Squared Error (MSE) for kNN:\", mse_knn)"
   ]
  },
  {
   "cell_type": "code",
   "execution_count": null,
   "id": "81d7401b",
   "metadata": {},
   "outputs": [],
   "source": [
    "\n"
   ]
  },
  {
   "cell_type": "code",
   "execution_count": null,
   "id": "8918515e",
   "metadata": {},
   "outputs": [],
   "source": []
  },
  {
   "cell_type": "code",
   "execution_count": null,
   "id": "52651e9b",
   "metadata": {},
   "outputs": [],
   "source": []
  }
 ],
 "metadata": {
  "kernelspec": {
   "display_name": "Python 3 (ipykernel)",
   "language": "python",
   "name": "python3"
  },
  "language_info": {
   "codemirror_mode": {
    "name": "ipython",
    "version": 3
   },
   "file_extension": ".py",
   "mimetype": "text/x-python",
   "name": "python",
   "nbconvert_exporter": "python",
   "pygments_lexer": "ipython3",
   "version": "3.11.5"
  }
 },
 "nbformat": 4,
 "nbformat_minor": 5
}
